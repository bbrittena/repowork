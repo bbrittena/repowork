{
 "cells": [
  {
   "cell_type": "markdown",
   "id": "ca17cc0f-c3bf-4eb9-8e88-2110c75a5a32",
   "metadata": {},
   "source": [
    "<h1>Understand Jupyter Notebooks</h1>"
   ]
  },
  {
   "cell_type": "markdown",
   "id": "10c3b396-2ebe-4d1f-a468-c0c7ada14304",
   "metadata": {},
   "source": [
    "<h4> Learning about and understanding Data Science and its different components it a great way to understand data</h4>"
   ]
  },
  {
   "attachments": {},
   "cell_type": "markdown",
   "id": "5dee97bb-bfb0-4ab7-92b4-982d31c6bc76",
   "metadata": {},
   "source": [
    "<h5> Here are some well-known Data Science Languages </h5>\n",
    "<h6>1. Python</h6>\n",
    "<h6>2. Julia</h6>\n",
    "<h6>3. R</h6>\n",
    "\n"
   ]
  },
  {
   "cell_type": "markdown",
   "id": "d36f8949-ba10-4d15-990f-e63106e573ab",
   "metadata": {},
   "source": [
    "<h5>Here are some well-know Data Science Libraries</h5>\n",
    "<h6>1. Pandas</h6>\n",
    "<h6>2. SciPHy</h6>\n",
    "<h6>3. Keras</h6>"
   ]
  },
  {
   "cell_type": "markdown",
   "id": "d786e428-67ed-4c08-acac-b65af934f763",
   "metadata": {},
   "source": [
    "|Data Science Tools|\n",
    "|:---|\n",
    "|RStudio|\r\n",
    "|Apache Spark|\r\n",
    "|TensorFlow|"
   ]
  },
  {
   "cell_type": "markdown",
   "id": "3a7549fc-ec44-405a-ac64-9851b8ae2c46",
   "metadata": {},
   "source": [
    "<h5>Here are some arithmetic expression examples</h5>\n",
    "\n",
    "1. x=x+y\n",
    "2. x=x*y"
   ]
  },
  {
   "cell_type": "code",
   "execution_count": 55,
   "id": "a0df69f0-34ea-499e-a580-2f2afbd28858",
   "metadata": {},
   "outputs": [
    {
     "name": "stdout",
     "output_type": "stream",
     "text": [
      "17\n"
     ]
    }
   ],
   "source": [
    "##This is to show how to multiply and add numbers:\n",
    "\n",
    "print((3*4)+5)"
   ]
  },
  {
   "cell_type": "code",
   "execution_count": 57,
   "id": "a0d6bbf8-2a77-428b-ab18-3953f9a99b96",
   "metadata": {},
   "outputs": [
    {
     "name": "stdout",
     "output_type": "stream",
     "text": [
      "03:20\n"
     ]
    }
   ],
   "source": [
    "#This is to convert minutes into hours:\n",
    "\n",
    "minutes = 200\n",
    "print(\"%02d:%02d\" % (divmod(minutes, 60)))\n"
   ]
  },
  {
   "cell_type": "markdown",
   "id": "ffb67f7f-3656-44fe-bc39-1e63a982a2eb",
   "metadata": {},
   "source": [
    "<h5>Objectives</h5>\n",
    "\n",
    "- List popular languages of Data Science\n",
    "- List commonly used libraries of Data Science\n",
    "- To Gain a better understanding of how to use code in Jupyter\n",
    " "
   ]
  },
  {
   "cell_type": "markdown",
   "id": "7fe9b85e-4e61-48a4-9b6f-ad503ef9a3d2",
   "metadata": {},
   "source": [
    "<h5>Author:</h5> Brian D. Britten"
   ]
  },
  {
   "cell_type": "code",
   "execution_count": null,
   "id": "715e62c6-38e7-427f-a2f1-303fd29ac10b",
   "metadata": {},
   "outputs": [],
   "source": []
  }
 ],
 "metadata": {
  "kernelspec": {
   "display_name": "Python 3 (ipykernel)",
   "language": "python",
   "name": "python3"
  },
  "language_info": {
   "codemirror_mode": {
    "name": "ipython",
    "version": 3
   },
   "file_extension": ".py",
   "mimetype": "text/x-python",
   "name": "python",
   "nbconvert_exporter": "python",
   "pygments_lexer": "ipython3",
   "version": "3.12.4"
  }
 },
 "nbformat": 4,
 "nbformat_minor": 5
}
