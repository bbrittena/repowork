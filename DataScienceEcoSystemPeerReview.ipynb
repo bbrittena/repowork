{
 "cells": [
  {
   "cell_type": "markdown",
   "id": "caa66a5a-6ac5-4f74-bb5f-412b4cf8bc79",
   "metadata": {},
   "source": [
    "DataScienceEcosystem.ipynb"
   ]
  },
  {
   "cell_type": "markdown",
   "id": "f9c972ef-f0a9-44c6-b218-8c939ee46f00",
   "metadata": {},
   "source": [
    "<h1>Data Science Tools and Ecosystem</h1>"
   ]
  },
  {
   "cell_type": "markdown",
   "id": "82189faa-22dd-402e-a50b-40a4026a6959",
   "metadata": {},
   "source": [
    "<h4>In this notebook, Data Science Tools and Ecosystem are summarized.</h4>"
   ]
  },
  {
   "cell_type": "markdown",
   "id": "7acce777-a08d-4371-b564-c64455ee6c7d",
   "metadata": {},
   "source": [
    "<h5> Here are some well-known Data Science Languages </h5>\n",
    "<h6>1. Python</h6>\n",
    "<h6>2. Julia</h6>\n",
    "<h6>3. R</h6>"
   ]
  },
  {
   "cell_type": "markdown",
   "id": "9e2224ac-88e3-4f26-acbb-a2c405d71758",
   "metadata": {},
   "source": [
    "<h5>Here are some well-know Data Science Libraries</h5>\n",
    "<h6>1. Pandas</h6>\n",
    "<h6>2. SciPHy</h6>\n",
    "<h6>3. Keras</h6>"
   ]
  },
  {
   "cell_type": "markdown",
   "id": "7890e199-8b9c-4b24-8b28-25328f9f3441",
   "metadata": {},
   "source": [
    "|Data Science Tools|\n",
    "|:---|\n",
    "|RStudio|\n",
    "|Apache Spark|\n",
    "|TensorFlow|"
   ]
  },
  {
   "cell_type": "markdown",
   "id": "9249801a-d543-4b1e-82b1-29cf81e89b80",
   "metadata": {},
   "source": [
    "<h3>Here are some arithmetic expression examples</h3>\n",
    "\n",
    "1. x=x+y\n",
    "2. x=x*y"
   ]
  },
  {
   "cell_type": "code",
   "execution_count": 20,
   "id": "665d59be-dcd8-440b-a273-bfb932d3aed1",
   "metadata": {},
   "outputs": [
    {
     "name": "stdout",
     "output_type": "stream",
     "text": [
      "17\n"
     ]
    }
   ],
   "source": [
    "##This is to show how to multiply and add numbers:\n",
    "\n",
    "print((3*4)+5)"
   ]
  },
  {
   "cell_type": "code",
   "execution_count": 22,
   "id": "bbcd787a-ff95-40b9-b145-d03bf3ef2d73",
   "metadata": {},
   "outputs": [
    {
     "name": "stdout",
     "output_type": "stream",
     "text": [
      "03:20\n"
     ]
    }
   ],
   "source": [
    "#This is to convert minutes into hours:\n",
    "\n",
    "minutes = 200\n",
    "print(\"%02d:%02d\" % (divmod(minutes, 60)))"
   ]
  },
  {
   "cell_type": "markdown",
   "id": "cfda6f78-de20-49c8-8527-c03431af0545",
   "metadata": {},
   "source": [
    "<h5>Objectives</h5>\n",
    "\n",
    "- List popular languages of Data Science\n",
    "- List commonly used libraries of Data Science\n",
    "- To Gain a better understanding of how to use code in Jupyter"
   ]
  },
  {
   "cell_type": "markdown",
   "id": "7cd83f8f-af23-4386-807a-39e61072bc91",
   "metadata": {},
   "source": [
    "<h2>Author:</h> Brian D. Britten"
   ]
  },
  {
   "cell_type": "code",
   "execution_count": null,
   "id": "108421aa-0ee7-4f36-99de-e525d9a267b1",
   "metadata": {},
   "outputs": [],
   "source": []
  }
 ],
 "metadata": {
  "kernelspec": {
   "display_name": "Python 3 (ipykernel)",
   "language": "python",
   "name": "python3"
  },
  "language_info": {
   "codemirror_mode": {
    "name": "ipython",
    "version": 3
   },
   "file_extension": ".py",
   "mimetype": "text/x-python",
   "name": "python",
   "nbconvert_exporter": "python",
   "pygments_lexer": "ipython3",
   "version": "3.12.4"
  }
 },
 "nbformat": 4,
 "nbformat_minor": 5
}
