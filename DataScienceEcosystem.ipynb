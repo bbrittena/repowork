{
 "cells": [
  {
   "cell_type": "markdown",
   "id": "f2d9e978-1555-47fa-8a59-30f7e552da6c",
   "metadata": {},
   "source": [
    "DataScienceEcosystem.ipynb"
   ]
  },
  {
   "cell_type": "markdown",
   "id": "6037cd84-0f5a-483a-87cc-159d83a3ad44",
   "metadata": {},
   "source": [
    "<h1>Data Science Tools and Ecosystem</h1>"
   ]
  },
  {
   "cell_type": "markdown",
   "id": "0e718670-12a1-4ba2-a289-65f6ea3f5184",
   "metadata": {},
   "source": [
    "<h3>In this notebook, Data Science Tools and Ecosystem are summarized.</h3>"
   ]
  },
  {
   "cell_type": "markdown",
   "id": "451d4790-7e57-475d-81e4-2230201dd63d",
   "metadata": {},
   "source": [
    "__Objectives:__<br>\n",
    "- List popular languages for Data Science<br>\n",
    "- List of commonly used libraries for Data Scientists<br>\n",
    "- Unstanding formating of Juypter Notebooks<br>\n"
   ]
  },
  {
   "attachments": {},
   "cell_type": "markdown",
   "id": "c35bca02-895a-4480-9b80-6c69c706fc27",
   "metadata": {
    "jp-MarkdownHeadingCollapsed": true
   },
   "source": [
    "<h4>Some of the popular languages that Data Scientists use are:</h4>\n",
    "\n",
    "1. Python\n",
    "2. R\n",
    "3. Julia"
   ]
  },
  {
   "attachments": {},
   "cell_type": "markdown",
   "id": "7fc34556-fd05-4274-bc11-ed450e1e0abf",
   "metadata": {},
   "source": [
    "<h4>Some of the commonly used libraries used by Data Scientists include:</h4>\n",
    "\n",
    "1. Pandas\n",
    "2. Sciphy\n",
    "3. Keras\n",
    "\n"
   ]
  },
  {
   "cell_type": "markdown",
   "id": "00fd9418-4cf9-4ed3-bf9c-d40e6bfcdbda",
   "metadata": {},
   "source": [
    "\n",
    "| Data Science Tools|\n",
    "|-----|\n",
    "| RStudio | \n",
    "|Apache Spark|\n",
    "|TensorFlow |"
   ]
  },
  {
   "attachments": {},
   "cell_type": "markdown",
   "id": "69534e37-429f-437b-b609-45c8e169a46f",
   "metadata": {},
   "source": [
    "<h3>Below are a few examples of evaluating arithmetic expressions in Python</h3>\n",
    "\n",
    "1. $x = x + y$ <br>\n",
    "2. $x = x * y$\n"
   ]
  },
  {
   "cell_type": "code",
   "execution_count": 4,
   "id": "f14b6421-5a9a-45cf-ae24-b008cc746582",
   "metadata": {
    "scrolled": true
   },
   "outputs": [
    {
     "name": "stdout",
     "output_type": "stream",
     "text": [
      "17\n"
     ]
    }
   ],
   "source": [
    "#This a simple arithmetic expression to mutiply then add integers\n",
    "\n",
    "print((3*4)+5)"
   ]
  },
  {
   "cell_type": "code",
   "execution_count": 22,
   "id": "5ceff331-d70c-48ee-b0f0-1e6797979539",
   "metadata": {},
   "outputs": [
    {
     "name": "stdout",
     "output_type": "stream",
     "text": [
      "03:20\n"
     ]
    }
   ],
   "source": [
    "#This will convert 200 minutes to hours by diving by 60\n",
    "\n",
    "minutes = 200\n",
    "print(\"%02d:%02d\" % (divmod(minutes, 60)))"
   ]
  },
  {
   "cell_type": "markdown",
   "id": "96ad16bd-59ff-4393-a7c4-57f031f26812",
   "metadata": {},
   "source": [
    "<h2>Author</h2>\n",
    "Brian Britten"
   ]
  },
  {
   "cell_type": "code",
   "execution_count": null,
   "id": "1b5db93b-c7d8-4a4f-9874-0b2dfbe89c51",
   "metadata": {},
   "outputs": [],
   "source": []
  }
 ],
 "metadata": {
  "kernelspec": {
   "display_name": "Python 3 (ipykernel)",
   "language": "python",
   "name": "python3"
  },
  "language_info": {
   "codemirror_mode": {
    "name": "ipython",
    "version": 3
   },
   "file_extension": ".py",
   "mimetype": "text/x-python",
   "name": "python",
   "nbconvert_exporter": "python",
   "pygments_lexer": "ipython3",
   "version": "3.12.4"
  }
 },
 "nbformat": 4,
 "nbformat_minor": 5
}
